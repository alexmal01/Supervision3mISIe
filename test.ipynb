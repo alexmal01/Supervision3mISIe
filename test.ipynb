{
 "cells": [
  {
   "cell_type": "code",
   "execution_count": 1,
   "metadata": {},
   "outputs": [],
   "source": [
    "from cracker.key_words import load_key_words_requirements_csv, load_pdf_content_csv, search_key_words\n",
    "from cracker.tools import extract_file_date, extract_file_year"
   ]
  },
  {
   "cell_type": "code",
   "execution_count": 2,
   "metadata": {},
   "outputs": [
    {
     "data": {
      "text/plain": [
       "{'ID_TAB': 1,\n",
       " 'DATA SFCR': '31.12.2022',\n",
       " 'WERSJA SFCR': 1.0,\n",
       " 'KOD ZAKŁADU': 6.0,\n",
       " 'ID_PYTANIA': 1,\n",
       " 'CZY WYSTĄPIŁ KLUCZ': 1,\n",
       " 'ILOŚĆ WYSTĄPIEŃ KLUCZY': 7}"
      ]
     },
     "execution_count": 2,
     "metadata": {},
     "output_type": "execute_result"
    }
   ],
   "source": [
    "reqs_path = 'key_words_requirements.csv'\n",
    "requirements_df = load_key_words_requirements_csv(reqs_path)\n",
    "content_path= 'key_words_sample.csv'\n",
    "content_df = load_pdf_content_csv(content_path)\n",
    "\n",
    "results = search_key_words(requirements_df,content_df,id_question=1,id_tab=1) \n",
    "results"
   ]
  },
  {
   "cell_type": "code",
   "execution_count": 3,
   "metadata": {},
   "outputs": [
    {
     "name": "stdout",
     "output_type": "stream",
     "text": [
      "2022\n",
      "31.12.2022\n"
     ]
    }
   ],
   "source": [
    "pdf_path = 'SFCR_TUiR_WARTA_2022-1.pdf'\n",
    "print(extract_file_year(pdf_path))\n",
    "print(extract_file_date(pdf_path))"
   ]
  },
  {
   "cell_type": "code",
   "execution_count": null,
   "metadata": {},
   "outputs": [],
   "source": []
  }
 ],
 "metadata": {
  "kernelspec": {
   "display_name": "base",
   "language": "python",
   "name": "python3"
  },
  "language_info": {
   "codemirror_mode": {
    "name": "ipython",
    "version": 3
   },
   "file_extension": ".py",
   "mimetype": "text/x-python",
   "name": "python",
   "nbconvert_exporter": "python",
   "pygments_lexer": "ipython3",
   "version": "3.10.9"
  }
 },
 "nbformat": 4,
 "nbformat_minor": 2
}
