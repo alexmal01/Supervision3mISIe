{
 "cells": [
  {
   "cell_type": "code",
   "execution_count": 1,
   "metadata": {},
   "outputs": [],
   "source": [
    "from cracker.key_words import load_key_words_requirements_csv, load_pdf_content_csv, search_key_words,count_key_phrases\n",
    "from cracker.tools import extract_file_date, extract_file_year, parse_audit_pdf\n",
    "import os\n",
    "import re"
   ]
  },
  {
   "cell_type": "code",
   "execution_count": 2,
   "metadata": {},
   "outputs": [
    {
     "data": {
      "text/plain": [
       "{'ID_TAB': 1,\n",
       " 'DATA SFCR': '31.12.2022',\n",
       " 'WERSJA SFCR': 1.0,\n",
       " 'KOD ZAKŁADU': 6.0,\n",
       " 'ID_PYTANIA': 1,\n",
       " 'CZY WYSTĄPIŁ KLUCZ': 1,\n",
       " 'ILOŚĆ WYSTĄPIEŃ KLUCZY': 7}"
      ]
     },
     "execution_count": 2,
     "metadata": {},
     "output_type": "execute_result"
    }
   ],
   "source": [
    "reqs_path = 'key_words_requirements.csv'\n",
    "requirements_df = load_key_words_requirements_csv(reqs_path)\n",
    "content_path= 'key_words_sample.csv'\n",
    "content_df = load_pdf_content_csv(content_path)\n",
    "\n",
    "results = search_key_words(requirements_df,content_df,id_question=1,id_tab=1) \n",
    "results"
   ]
  },
  {
   "cell_type": "code",
   "execution_count": 3,
   "metadata": {},
   "outputs": [
    {
     "name": "stdout",
     "output_type": "stream",
     "text": [
      "2022\n",
      "31.12.2022\n"
     ]
    }
   ],
   "source": [
    "pdf_path = 'SFCR_TUiR_WARTA_2022-1.pdf'\n",
    "print(extract_file_year(pdf_path))\n",
    "print(extract_file_date(pdf_path))"
   ]
  },
  {
   "cell_type": "code",
   "execution_count": 2,
   "metadata": {},
   "outputs": [],
   "source": [
    "import os"
   ]
  },
  {
   "cell_type": "code",
   "execution_count": 7,
   "metadata": {},
   "outputs": [],
   "source": [
    "path = '.\\\\SFCR_data\\\\www.wiener.pl'\n",
    "\n",
    "files = [f for f in os.listdir(path) if os.path.isfile(os.path.join(path, f))]"
   ]
  },
  {
   "cell_type": "code",
   "execution_count": 8,
   "metadata": {},
   "outputs": [
    {
     "name": "stdout",
     "output_type": "stream",
     "text": [
      ".\\SFCR_data\\www.wiener.pl\\SFCR_2594005LQ77Y1YH2JZ49_WIENER_TU_SA_Vienna_Insurance_Group_-116030726440830545.pdf\n",
      "0000\n",
      "01.01.1970\n",
      ".\\SFCR_data\\www.wiener.pl\\SFCR_2594005LQ77Y1YH2JZ49_WIENER_TU_SA_Vienna_Insurance_Group_-5662314945701928921.pdf\n",
      "can't open document\n",
      "01.01.1970\n",
      "can't open document\n",
      "01.01.1970\n",
      ".\\SFCR_data\\www.wiener.pl\\SFCR_2594005LQ77Y1YH2JZ49_WIENER_TU_SA_Vienna_Insurance_Group_-6542722728131921995.pdf\n",
      "0000\n",
      "01.01.1970\n",
      ".\\SFCR_data\\www.wiener.pl\\SFCR_2594005LQ77Y1YH2JZ49_WIENER_TU_SA_Vienna_Insurance_Group_-6695921907272960534.pdf\n",
      "can't open document\n",
      "01.01.1970\n",
      "can't open document\n",
      "01.01.1970\n",
      ".\\SFCR_data\\www.wiener.pl\\SFCR_2594005LQ77Y1YH2JZ49_WIENER_TU_SA_Vienna_Insurance_Group_-8667863020934143269.pdf\n",
      "can't open document\n",
      "01.01.1970\n",
      "can't open document\n",
      "01.01.1970\n",
      ".\\SFCR_data\\www.wiener.pl\\SFCR_2594005LQ77Y1YH2JZ49_WIENER_TU_SA_Vienna_Insurance_Group_2043819137182984507.pdf\n",
      "can't open document\n",
      "01.01.1970\n",
      "can't open document\n",
      "01.01.1970\n",
      ".\\SFCR_data\\www.wiener.pl\\SFCR_2594005LQ77Y1YH2JZ49_WIENER_TU_SA_Vienna_Insurance_Group_2393448743072914464.pdf\n",
      "can't open document\n",
      "01.01.1970\n",
      "can't open document\n",
      "01.01.1970\n"
     ]
    }
   ],
   "source": [
    "for file in files:\n",
    "    full_path = os.path.join(path, file)\n",
    "    print(full_path)\n",
    "    print(extract_file_year(full_path))\n",
    "    print(extract_file_date(full_path))"
   ]
  },
  {
   "cell_type": "code",
   "execution_count": 4,
   "metadata": {},
   "outputs": [
    {
     "name": "stdout",
     "output_type": "stream",
     "text": [
      "0\n",
      ".\\AUDITS\\AUDIT_259400MNYUI0WSI1WU07_OPEN_LIFE_TU_ŻYCIE_SA__Sprawozdanie-z-badania-sprawozdania-o-wypłacalności-i-kondycji-finansowej-za-rok-2019.pdf\n",
      "2019\n",
      "31.12.2019\n"
     ]
    }
   ],
   "source": [
    "file = 'AUDIT_259400MNYUI0WSI1WU07_OPEN_LIFE_TU_ŻYCIE_SA__Sprawozdanie-z-badania-sprawozdania-o-wypłacalności-i-kondycji-finansowej-za-rok-2019.pdf'\n",
    "full_path = os.path.join('.\\\\AUDITS', file)\n",
    "print(parse_audit_pdf(full_path))\n",
    "print(full_path)\n",
    "print(extract_file_year(full_path))\n",
    "print(extract_file_date(full_path))\n"
   ]
  }
 ],
 "metadata": {
  "kernelspec": {
   "display_name": "base",
   "language": "python",
   "name": "python3"
  },
  "language_info": {
   "codemirror_mode": {
    "name": "ipython",
    "version": 3
   },
   "file_extension": ".py",
   "mimetype": "text/x-python",
   "name": "python",
   "nbconvert_exporter": "python",
   "pygments_lexer": "ipython3",
   "version": "3.10.9"
  }
 },
 "nbformat": 4,
 "nbformat_minor": 2
}
