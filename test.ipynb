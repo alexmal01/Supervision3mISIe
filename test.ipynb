{
 "cells": [
  {
   "cell_type": "code",
   "execution_count": 1,
   "metadata": {},
   "outputs": [
    {
     "name": "stderr",
     "output_type": "stream",
     "text": [
      "Loading: 100%|██████████| 11368252/11368252 [00:26<00:00, 431272.72bytes/s]\n"
     ]
    }
   ],
   "source": [
    "from cracker.key_words import load_key_words_requirements_csv, load_pdf_content_csv, search_key_words,count_key_phrases, run_question_and_save_csv, create_stemmer\n",
    "from cracker.tools import extract_file_date, extract_file_year, parse_audit_pdf\n",
    "from cracker.sfcr_segmentation import PDFReader\n",
    "import os\n",
    "import re\n",
    "import pandas as pd\n",
    "\n",
    "stemmer = create_stemmer()"
   ]
  },
  {
   "cell_type": "code",
   "execution_count": 2,
   "metadata": {},
   "outputs": [],
   "source": [
    "# 1. pdf segmentation\n",
    "pdf_path = '2022-SFCR-TUIR-Sprawozdanie-o-wyplacalnosci-i-kondycji-finansowej.pdf'\n",
    "pdf_reader = PDFReader(pdf_path)\n",
    "headers = pdf_reader.get_headers_text()\n",
    "csv_path=\"Struktura dla danych jakościowych.csv\"\n",
    "pdf_reader.create_df(headers, csv_path)\n"
   ]
  },
  {
   "cell_type": "code",
   "execution_count": 4,
   "metadata": {},
   "outputs": [
    {
     "name": "stdout",
     "output_type": "stream",
     "text": [
      "Index(['ID_TAB', 'ID_SEKCJA NADRZĘDNA', 'ID_SEKCJA', 'NAZWA_SEKCJI', 'TREŚĆ',\n",
      "       'DATA SFCR', 'WERSJA SFCR', 'KOD ZAKŁADU'],\n",
      "      dtype='object')\n"
     ]
    }
   ],
   "source": [
    "# 2. key words\n",
    "reqs_path = 'key_words_requirements.csv'\n",
    "requirements_df = load_key_words_requirements_csv(reqs_path)\n",
    "content_df = load_pdf_content_csv(csv_path)\n",
    "csv_path2 = 'Struktura dla danych dla weryfikacji kompletności SFCR.csv'\n",
    "run_question_and_save_csv(requirements_df, content_df,stemmer, csv_path=csv_path2 )"
   ]
  },
  {
   "cell_type": "code",
   "execution_count": 43,
   "metadata": {},
   "outputs": [],
   "source": []
  },
  {
   "cell_type": "code",
   "execution_count": 3,
   "metadata": {},
   "outputs": [
    {
     "name": "stdout",
     "output_type": "stream",
     "text": [
      "2022\n",
      "31.12.2022\n"
     ]
    }
   ],
   "source": [
    "pdf_path = 'SFCR_TUiR_WARTA_2022-1.pdf'\n",
    "print(extract_file_year(pdf_path))\n",
    "print(extract_file_date(pdf_path))"
   ]
  },
  {
   "cell_type": "code",
   "execution_count": 2,
   "metadata": {},
   "outputs": [],
   "source": [
    "import os"
   ]
  },
  {
   "cell_type": "code",
   "execution_count": 4,
   "metadata": {},
   "outputs": [],
   "source": [
    "path = '.\\\\SFCR_data\\\\www.aegon.pl'\n",
    "\n",
    "files = [f for f in os.listdir(path) if os.path.isfile(os.path.join(path, f))]\n",
    "file = files[0]\n",
    "full_path = os.path.join(path, file)\n"
   ]
  },
  {
   "cell_type": "code",
   "execution_count": 4,
   "metadata": {},
   "outputs": [
    {
     "name": "stdout",
     "output_type": "stream",
     "text": [
      "0\n",
      ".\\AUDITS\\AUDIT_259400MNYUI0WSI1WU07_OPEN_LIFE_TU_ŻYCIE_SA__Sprawozdanie-z-badania-sprawozdania-o-wypłacalności-i-kondycji-finansowej-za-rok-2019.pdf\n",
      "2019\n",
      "31.12.2019\n"
     ]
    }
   ],
   "source": [
    "file = 'AUDIT_259400MNYUI0WSI1WU07_OPEN_LIFE_TU_ŻYCIE_SA__Sprawozdanie-z-badania-sprawozdania-o-wypłacalności-i-kondycji-finansowej-za-rok-2019.pdf'\n",
    "full_path = os.path.join('.\\\\AUDITS', file)\n",
    "print(parse_audit_pdf(full_path))\n",
    "print(full_path)\n",
    "print(extract_file_year(full_path))\n",
    "print(extract_file_date(full_path))\n"
   ]
  }
 ],
 "metadata": {
  "kernelspec": {
   "display_name": "base",
   "language": "python",
   "name": "python3"
  },
  "language_info": {
   "codemirror_mode": {
    "name": "ipython",
    "version": 3
   },
   "file_extension": ".py",
   "mimetype": "text/x-python",
   "name": "python",
   "nbconvert_exporter": "python",
   "pygments_lexer": "ipython3",
   "version": "3.10.9"
  }
 },
 "nbformat": 4,
 "nbformat_minor": 2
}
