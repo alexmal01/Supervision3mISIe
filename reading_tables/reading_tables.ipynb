{
 "cells": [
  {
   "cell_type": "code",
   "execution_count": 1,
   "metadata": {},
   "outputs": [],
   "source": [
    "import pandas as pd\n",
    "import re\n",
    "import numpy as np"
   ]
  },
  {
   "cell_type": "code",
   "execution_count": 2,
   "metadata": {},
   "outputs": [],
   "source": [
    "df = pd.read_excel('output-1.xlsx')"
   ]
  },
  {
   "cell_type": "code",
   "execution_count": 3,
   "metadata": {},
   "outputs": [],
   "source": [
    "def find_matches(pattern):\n",
    "    # return values and indices of all matching values\n",
    "    result_dict = {}\n",
    "\n",
    "    for col_index, col in enumerate(df.columns):\n",
    "        for row_index, value in enumerate(df[col]):\n",
    "            matches = re.findall(pattern, str(value))\n",
    "            if matches:\n",
    "                for match in matches:\n",
    "                    result_dict[match] = {'row' : row_index, 'col' : col_index}\n",
    "\n",
    "    return pd.DataFrame.from_dict(result_dict, orient='index').reset_index(names=['value', 'row', 'col'])\n",
    "\n",
    "\n",
    "def convert_to_float(value):\n",
    "    try:\n",
    "        # Replace commas, replace spaces, convert to float\n",
    "        return float(value.replace(' ', '').replace(',', '.'))\n",
    "    except (ValueError, AttributeError):\n",
    "        # If conversion fails (NaN or other), return None\n",
    "        return None"
   ]
  },
  {
   "cell_type": "code",
   "execution_count": 4,
   "metadata": {},
   "outputs": [],
   "source": [
    "def extract_table_values(df):\n",
    "    c_pattern = r'C\\d{4}'\n",
    "    r_pattern = r'R\\d{4}'\n",
    "\n",
    "    c_matches = find_matches(c_pattern)\n",
    "    if c_matches['row'].nunique() != 1:\n",
    "        raise ValueError('Multiple rows found for C pattern - weird table format. Aborting...')\n",
    "    c_count = len(c_matches)\n",
    "    r_matches = find_matches(r_pattern)\n",
    "\n",
    "    dfs_to_union = []\n",
    "    for _, r_match in r_matches.iterrows():\n",
    "        try:\n",
    "            result_vector = df.iloc[r_match['row'], r_match['col'] + 1: r_match['col'] + c_count + 1].values\n",
    "            # Apply the function to the example vector\n",
    "            result_vector = np.array([convert_to_float(val) for val in result_vector])\n",
    "            result  = pd.DataFrame({'WIERSZ': np.full(c_count, r_match.value),'KOLUMNA' : c_matches['value'].values, 'WARTOŚĆ' : result_vector})\n",
    "            dfs_to_union.append(result)\n",
    "        except Exception as e:\n",
    "            print(e)\n",
    "    return pd.concat(dfs_to_union, ignore_index=True)"
   ]
  },
  {
   "cell_type": "code",
   "execution_count": 5,
   "metadata": {},
   "outputs": [],
   "source": [
    "result = extract_table_values(df)\n",
    "result.to_csv('test.csv')"
   ]
  }
 ],
 "metadata": {
  "kernelspec": {
   "display_name": "base",
   "language": "python",
   "name": "python3"
  },
  "language_info": {
   "codemirror_mode": {
    "name": "ipython",
    "version": 3
   },
   "file_extension": ".py",
   "mimetype": "text/x-python",
   "name": "python",
   "nbconvert_exporter": "python",
   "pygments_lexer": "ipython3",
   "version": "3.10.9"
  },
  "orig_nbformat": 4
 },
 "nbformat": 4,
 "nbformat_minor": 2
}
