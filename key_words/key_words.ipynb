{
 "cells": [
  {
   "cell_type": "code",
   "execution_count": 1,
   "metadata": {},
   "outputs": [],
   "source": [
    "import pandas as pd\n",
    "import re"
   ]
  },
  {
   "cell_type": "code",
   "execution_count": 2,
   "metadata": {},
   "outputs": [],
   "source": [
    "requirements_df = pd.read_csv('key_words_requirements.csv', sep=';')\n",
    "requirements_df.columns = ['ID_PYTANIA', 'PYTANIE', 'KLUCZ', 'ID_SEKCJA']"
   ]
  },
  {
   "cell_type": "code",
   "execution_count": 3,
   "metadata": {},
   "outputs": [
    {
     "data": {
      "text/html": [
       "<div>\n",
       "<style scoped>\n",
       "    .dataframe tbody tr th:only-of-type {\n",
       "        vertical-align: middle;\n",
       "    }\n",
       "\n",
       "    .dataframe tbody tr th {\n",
       "        vertical-align: top;\n",
       "    }\n",
       "\n",
       "    .dataframe thead th {\n",
       "        text-align: right;\n",
       "    }\n",
       "</style>\n",
       "<table border=\"1\" class=\"dataframe\">\n",
       "  <thead>\n",
       "    <tr style=\"text-align: right;\">\n",
       "      <th></th>\n",
       "      <th>ID_PYTANIA</th>\n",
       "      <th>PYTANIE</th>\n",
       "      <th>KLUCZ</th>\n",
       "      <th>ID_SEKCJA</th>\n",
       "    </tr>\n",
       "  </thead>\n",
       "  <tbody>\n",
       "    <tr>\n",
       "      <th>0</th>\n",
       "      <td>1</td>\n",
       "      <td>Czy SFCR zawiera informacje dotyczące nazwy i ...</td>\n",
       "      <td>nazwa i forma prawna; Towarzystwo; Zakład; TU;...</td>\n",
       "      <td>3</td>\n",
       "    </tr>\n",
       "    <tr>\n",
       "      <th>1</th>\n",
       "      <td>2</td>\n",
       "      <td>Czy SFCR zawiera informacje dotyczące nazwy i ...</td>\n",
       "      <td>organ nadzoru; nadzór nad grupą</td>\n",
       "      <td>3</td>\n",
       "    </tr>\n",
       "    <tr>\n",
       "      <th>2</th>\n",
       "      <td>3</td>\n",
       "      <td>Czy SFCR zawiera informacje dotyczące nazwy or...</td>\n",
       "      <td>biegły rewident; audytor; audyt</td>\n",
       "      <td>3</td>\n",
       "    </tr>\n",
       "    <tr>\n",
       "      <th>3</th>\n",
       "      <td>4</td>\n",
       "      <td>Czy SFCR zawiera informacje dotyczące udziałow...</td>\n",
       "      <td>udziałowiec</td>\n",
       "      <td>3</td>\n",
       "    </tr>\n",
       "    <tr>\n",
       "      <th>4</th>\n",
       "      <td>5</td>\n",
       "      <td>Czy SFCR zawiera informacje dotyczące nazwy i ...</td>\n",
       "      <td>pośredni; bezpośredni; udziałowiec</td>\n",
       "      <td>3</td>\n",
       "    </tr>\n",
       "    <tr>\n",
       "      <th>...</th>\n",
       "      <td>...</td>\n",
       "      <td>...</td>\n",
       "      <td>...</td>\n",
       "      <td>...</td>\n",
       "    </tr>\n",
       "    <tr>\n",
       "      <th>162</th>\n",
       "      <td>163</td>\n",
       "      <td>Czy SFCR, w odniesieniu do każdego przypadku n...</td>\n",
       "      <td>niezgodności z minimalnym wymogiem kapitałowym...</td>\n",
       "      <td>36</td>\n",
       "    </tr>\n",
       "    <tr>\n",
       "      <th>163</th>\n",
       "      <td>164</td>\n",
       "      <td>Czy SFCR, w przypadku gdy niezgodność z minima...</td>\n",
       "      <td>niezgodność; kwota</td>\n",
       "      <td>36</td>\n",
       "    </tr>\n",
       "    <tr>\n",
       "      <th>164</th>\n",
       "      <td>165</td>\n",
       "      <td>Czy SFCR w odniesieniu do każdego istotnego pr...</td>\n",
       "      <td>niezgodności z kapitałowym wymogiem wypłacalno...</td>\n",
       "      <td>36</td>\n",
       "    </tr>\n",
       "    <tr>\n",
       "      <th>165</th>\n",
       "      <td>166</td>\n",
       "      <td>Czy SFCR, w przypadku gdy niezgodność z kapita...</td>\n",
       "      <td>niezgodność; kwota</td>\n",
       "      <td>36</td>\n",
       "    </tr>\n",
       "    <tr>\n",
       "      <th>166</th>\n",
       "      <td>167</td>\n",
       "      <td>Inne istotne informacje dotyczące zarządzania ...</td>\n",
       "      <td>inne istotne informacje</td>\n",
       "      <td>37</td>\n",
       "    </tr>\n",
       "  </tbody>\n",
       "</table>\n",
       "<p>167 rows × 4 columns</p>\n",
       "</div>"
      ],
      "text/plain": [
       "     ID_PYTANIA                                            PYTANIE  \\\n",
       "0             1  Czy SFCR zawiera informacje dotyczące nazwy i ...   \n",
       "1             2  Czy SFCR zawiera informacje dotyczące nazwy i ...   \n",
       "2             3  Czy SFCR zawiera informacje dotyczące nazwy or...   \n",
       "3             4  Czy SFCR zawiera informacje dotyczące udziałow...   \n",
       "4             5  Czy SFCR zawiera informacje dotyczące nazwy i ...   \n",
       "..          ...                                                ...   \n",
       "162         163  Czy SFCR, w odniesieniu do każdego przypadku n...   \n",
       "163         164  Czy SFCR, w przypadku gdy niezgodność z minima...   \n",
       "164         165  Czy SFCR w odniesieniu do każdego istotnego pr...   \n",
       "165         166  Czy SFCR, w przypadku gdy niezgodność z kapita...   \n",
       "166         167  Inne istotne informacje dotyczące zarządzania ...   \n",
       "\n",
       "                                                 KLUCZ  ID_SEKCJA  \n",
       "0    nazwa i forma prawna; Towarzystwo; Zakład; TU;...          3  \n",
       "1                      organ nadzoru; nadzór nad grupą          3  \n",
       "2                      biegły rewident; audytor; audyt          3  \n",
       "3                                          udziałowiec          3  \n",
       "4                   pośredni; bezpośredni; udziałowiec          3  \n",
       "..                                                 ...        ...  \n",
       "162  niezgodności z minimalnym wymogiem kapitałowym...         36  \n",
       "163                                 niezgodność; kwota         36  \n",
       "164  niezgodności z kapitałowym wymogiem wypłacalno...         36  \n",
       "165                                 niezgodność; kwota         36  \n",
       "166                           inne istotne informacje          37  \n",
       "\n",
       "[167 rows x 4 columns]"
      ]
     },
     "execution_count": 3,
     "metadata": {},
     "output_type": "execute_result"
    }
   ],
   "source": [
    "requirements_df"
   ]
  },
  {
   "cell_type": "code",
   "execution_count": 13,
   "metadata": {},
   "outputs": [],
   "source": [
    "content_df = pd.read_csv('key_words_sample.csv',sep=';')\n",
    "content_df.columns = ['ID_TAB', 'DATA SFCR', 'WERSJA SFCR', 'KOD ZAKŁADU', 'ID_SEKCJA NADRZĘDNA', 'ID_SEKCJA', 'NAZWA_SECKJI', 'TREŚĆ']\n",
    "\n",
    "columns_to_fill = ['ID_TAB']\n",
    "content_df[columns_to_fill] = content_df[columns_to_fill].ffill()"
   ]
  },
  {
   "cell_type": "code",
   "execution_count": 15,
   "metadata": {},
   "outputs": [
    {
     "data": {
      "text/html": [
       "<div>\n",
       "<style scoped>\n",
       "    .dataframe tbody tr th:only-of-type {\n",
       "        vertical-align: middle;\n",
       "    }\n",
       "\n",
       "    .dataframe tbody tr th {\n",
       "        vertical-align: top;\n",
       "    }\n",
       "\n",
       "    .dataframe thead th {\n",
       "        text-align: right;\n",
       "    }\n",
       "</style>\n",
       "<table border=\"1\" class=\"dataframe\">\n",
       "  <thead>\n",
       "    <tr style=\"text-align: right;\">\n",
       "      <th></th>\n",
       "      <th>ID_TAB</th>\n",
       "      <th>DATA SFCR</th>\n",
       "      <th>WERSJA SFCR</th>\n",
       "      <th>KOD ZAKŁADU</th>\n",
       "      <th>ID_SEKCJA NADRZĘDNA</th>\n",
       "      <th>ID_SEKCJA</th>\n",
       "      <th>NAZWA_SECKJI</th>\n",
       "      <th>TREŚĆ</th>\n",
       "    </tr>\n",
       "  </thead>\n",
       "  <tbody>\n",
       "    <tr>\n",
       "      <th>0</th>\n",
       "      <td>1.0</td>\n",
       "      <td>31.12.2022</td>\n",
       "      <td>1.0</td>\n",
       "      <td>6.0</td>\n",
       "      <td>NaN</td>\n",
       "      <td>NaN</td>\n",
       "      <td>A. Działalność Spółki i wyniki</td>\n",
       "      <td>NaN</td>\n",
       "    </tr>\n",
       "    <tr>\n",
       "      <th>1</th>\n",
       "      <td>1.0</td>\n",
       "      <td>NaN</td>\n",
       "      <td>NaN</td>\n",
       "      <td>NaN</td>\n",
       "      <td>NaN</td>\n",
       "      <td>3.0</td>\n",
       "      <td>A.1. Działalność</td>\n",
       "      <td>\"Aegon Towarzystwo Ubezpieczeń na Życ</td>\n",
       "    </tr>\n",
       "    <tr>\n",
       "      <th>2</th>\n",
       "      <td>1.0</td>\n",
       "      <td>NaN</td>\n",
       "      <td>NaN</td>\n",
       "      <td>NaN</td>\n",
       "      <td>NaN</td>\n",
       "      <td>3.0</td>\n",
       "      <td>A.1.1. Informacje ogólne</td>\n",
       "      <td>Aegon Towarzystwo Ubezpieczeń na Życie S.A. je...</td>\n",
       "    </tr>\n",
       "    <tr>\n",
       "      <th>3</th>\n",
       "      <td>1.0</td>\n",
       "      <td>NaN</td>\n",
       "      <td>NaN</td>\n",
       "      <td>NaN</td>\n",
       "      <td>NaN</td>\n",
       "      <td>3.0</td>\n",
       "      <td>A.1.2. Informacje ogólne</td>\n",
       "      <td>Aegon Towarzystwo Ubezpieczeń na Życie S.A. je...</td>\n",
       "    </tr>\n",
       "    <tr>\n",
       "      <th>4</th>\n",
       "      <td>1.0</td>\n",
       "      <td>NaN</td>\n",
       "      <td>NaN</td>\n",
       "      <td>NaN</td>\n",
       "      <td>NaN</td>\n",
       "      <td>4.0</td>\n",
       "      <td>A.2. Wyniki z działalności ubezpieczeniowej</td>\n",
       "      <td>Wyniki z działalności ubezpieczeniowej zostały...</td>\n",
       "    </tr>\n",
       "    <tr>\n",
       "      <th>5</th>\n",
       "      <td>1.0</td>\n",
       "      <td>NaN</td>\n",
       "      <td>NaN</td>\n",
       "      <td>NaN</td>\n",
       "      <td>NaN</td>\n",
       "      <td>9.0</td>\n",
       "      <td>B.1. Informacje ogólne</td>\n",
       "      <td>System Zarządzania w ocenie Towarzystwa jest a...</td>\n",
       "    </tr>\n",
       "  </tbody>\n",
       "</table>\n",
       "</div>"
      ],
      "text/plain": [
       "   ID_TAB   DATA SFCR  WERSJA SFCR  KOD ZAKŁADU  ID_SEKCJA NADRZĘDNA  \\\n",
       "0     1.0  31.12.2022          1.0          6.0                  NaN   \n",
       "1     1.0         NaN          NaN          NaN                  NaN   \n",
       "2     1.0         NaN          NaN          NaN                  NaN   \n",
       "3     1.0         NaN          NaN          NaN                  NaN   \n",
       "4     1.0         NaN          NaN          NaN                  NaN   \n",
       "5     1.0         NaN          NaN          NaN                  NaN   \n",
       "\n",
       "   ID_SEKCJA                                 NAZWA_SECKJI  \\\n",
       "0        NaN               A. Działalność Spółki i wyniki   \n",
       "1        3.0                             A.1. Działalność   \n",
       "2        3.0                     A.1.1. Informacje ogólne   \n",
       "3        3.0                     A.1.2. Informacje ogólne   \n",
       "4        4.0  A.2. Wyniki z działalności ubezpieczeniowej   \n",
       "5        9.0                       B.1. Informacje ogólne   \n",
       "\n",
       "                                               TREŚĆ  \n",
       "0                                                NaN  \n",
       "1              \"Aegon Towarzystwo Ubezpieczeń na Życ  \n",
       "2  Aegon Towarzystwo Ubezpieczeń na Życie S.A. je...  \n",
       "3  Aegon Towarzystwo Ubezpieczeń na Życie S.A. je...  \n",
       "4  Wyniki z działalności ubezpieczeniowej zostały...  \n",
       "5  System Zarządzania w ocenie Towarzystwa jest a...  "
      ]
     },
     "execution_count": 15,
     "metadata": {},
     "output_type": "execute_result"
    }
   ],
   "source": [
    "content_df"
   ]
  },
  {
   "cell_type": "code",
   "execution_count": 16,
   "metadata": {},
   "outputs": [],
   "source": [
    "def has_more_than_two_uppercase_letters(word):\n",
    "    return sum(1 for char in word if char.isupper()) > 2\n",
    "\n",
    "def count_key_phrases(text, key_phrases):\n",
    "    words = text.split()\n",
    "    key_phrase_counts = {} \n",
    "    for phrase in key_phrases:\n",
    "        # idea: if some word has more than 2 uppercase letters, search it case-sensitive, otherwise case-insensitive\n",
    "        split_phrase = phrase.split()\n",
    "        split_phrase_length = len(split_phrase)\n",
    "        words_length = len(words)\n",
    "\n",
    "        if any(has_more_than_two_uppercase_letters(word) for word in split_phrase):\n",
    "            count = sum(phrase == ' '.join(words[i:i + split_phrase_length])\n",
    "                        for i in range(words_length - split_phrase_length + 1))\n",
    "        else:\n",
    "            count = sum(phrase.lower() == ' '.join(words[i:i + split_phrase_length]).lower()\n",
    "                        for i in range(words_length - split_phrase_length + 1))\n",
    "        \n",
    "        key_phrase_counts[phrase] = count\n",
    "\n",
    "    return key_phrase_counts\n"
   ]
  },
  {
   "cell_type": "code",
   "execution_count": 19,
   "metadata": {},
   "outputs": [],
   "source": [
    "def search_key_words(requirements_df, content_df, id_question, id_tab):\n",
    "    key_phrases  = [phrase.strip() for  phrase in requirements_df[(requirements_df['ID_PYTANIA'] == id_question)]['KLUCZ'].values[0].split(';')]\n",
    "    content_df = content_df[content_df['ID_TAB'] == id_tab] \n",
    "    sfcr_date = content_df['DATA SFCR'].values[0]\n",
    "    sfcr_version = content_df['WERSJA SFCR'].values[0]\n",
    "    company_code = content_df['KOD ZAKŁADU'].values[0]\n",
    "\n",
    "    result_dict = {\n",
    "        \"ID_TAB\" : id_tab,\n",
    "        'DATA SFCR' : sfcr_date,\n",
    "        'WERSJA SFCR' : sfcr_version,\n",
    "        'KOD ZAKŁADU' : company_code,\n",
    "        'ID_PYTANIA' : id_question\n",
    "    }\n",
    "\n",
    "    section_id = requirements_df[(requirements_df['ID_PYTANIA'] == id_question)]['ID_SEKCJA'].values[0]\n",
    "    content = content_df[(content_df['ID_SEKCJA'] == section_id)]['TREŚĆ']\n",
    "    # join sections content and clean it\n",
    "    joined_content = ' '.join(list(content)).replace('\\n', ' ')\n",
    "    text = re.sub(r'[^a-zA-Z0-9ąćęłńóśźżĄĆĘŁŃÓŚŹŻ\\s]', '', joined_content)\n",
    "    key_phrase_counts = count_key_phrases(text, key_phrases)\n",
    "    result = sum(key_phrase_counts.values())\n",
    "\n",
    "    result_dict['CZY WYSTĄPIŁ KLUCZ'] = 1 if result > 0 else 0\n",
    "    result_dict['ILOŚĆ WYSTĄPIEŃ KLUCZY'] = result\n",
    "\n",
    "    return result_dict\n"
   ]
  },
  {
   "cell_type": "code",
   "execution_count": 20,
   "metadata": {},
   "outputs": [
    {
     "data": {
      "text/plain": [
       "{'ID_TAB': 1,\n",
       " 'DATA SFCR': '31.12.2022',\n",
       " 'WERSJA SFCR': 1.0,\n",
       " 'KOD ZAKŁADU': 6.0,\n",
       " 'ID_PYTANIA': 1,\n",
       " 'CZY WYSTĄPIŁ KLUCZ': 1,\n",
       " 'ILOŚĆ WYSTĄPIEŃ KLUCZY': 7}"
      ]
     },
     "execution_count": 20,
     "metadata": {},
     "output_type": "execute_result"
    }
   ],
   "source": [
    "id_tab = 1\n",
    "id_question = 1\n",
    "\n",
    "search_key_words(requirements_df, content_df, id_question, id_tab)"
   ]
  },
  {
   "cell_type": "code",
   "execution_count": 29,
   "metadata": {},
   "outputs": [
    {
     "data": {
      "text/plain": [
       "{'ID_TAB': 1,\n",
       " 'DATA SFCR': '31.12.2022',\n",
       " 'WERSJA SFCR': 1.0,\n",
       " 'KOD ZAKŁADU': 6.0,\n",
       " 'ID_PYTANIA': 2,\n",
       " 'CZY WYSTĄPIŁ KLUCZ': 0,\n",
       " 'ILOŚĆ WYSTĄPIEŃ KLUCZY': 0}"
      ]
     },
     "execution_count": 29,
     "metadata": {},
     "output_type": "execute_result"
    }
   ],
   "source": [
    "id_tab = 1\n",
    "id_question = 2\n",
    "\n",
    "search_key_words(requirements_df, content_df, id_question, id_tab)"
   ]
  },
  {
   "cell_type": "code",
   "execution_count": 28,
   "metadata": {},
   "outputs": [
    {
     "data": {
      "text/plain": [
       "{'ID_TAB': 1,\n",
       " 'DATA SFCR': '31.12.2022',\n",
       " 'WERSJA SFCR': 1.0,\n",
       " 'KOD ZAKŁADU': 6.0,\n",
       " 'ID_PYTANIA': 11,\n",
       " 'CZY WYSTĄPIŁ KLUCZ': 1,\n",
       " 'ILOŚĆ WYSTĄPIEŃ KLUCZY': 10}"
      ]
     },
     "execution_count": 28,
     "metadata": {},
     "output_type": "execute_result"
    }
   ],
   "source": [
    "id_tab = 1\n",
    "id_question = 11\n",
    "\n",
    "search_key_words(requirements_df, content_df, id_question, id_tab)"
   ]
  },
  {
   "cell_type": "code",
   "execution_count": 32,
   "metadata": {},
   "outputs": [
    {
     "data": {
      "text/plain": [
       "{'ID_TAB': 1,\n",
       " 'DATA SFCR': '31.12.2022',\n",
       " 'WERSJA SFCR': 1.0,\n",
       " 'KOD ZAKŁADU': 6.0,\n",
       " 'ID_PYTANIA': 20,\n",
       " 'CZY WYSTĄPIŁ KLUCZ': 0,\n",
       " 'ILOŚĆ WYSTĄPIEŃ KLUCZY': 0}"
      ]
     },
     "execution_count": 32,
     "metadata": {},
     "output_type": "execute_result"
    }
   ],
   "source": [
    "id_tab = 1\n",
    "id_question = 21\n",
    "\n",
    "search_key_words(requirements_df, content_df, id_question, id_tab)\n",
    "\n",
    "id_tab = 1\n",
    "id_question = 20\n",
    "\n",
    "search_key_words(requirements_df, content_df, id_question, id_tab)"
   ]
  }
 ],
 "metadata": {
  "kernelspec": {
   "display_name": "base",
   "language": "python",
   "name": "python3"
  },
  "language_info": {
   "codemirror_mode": {
    "name": "ipython",
    "version": 3
   },
   "file_extension": ".py",
   "mimetype": "text/x-python",
   "name": "python",
   "nbconvert_exporter": "python",
   "pygments_lexer": "ipython3",
   "version": "3.10.9"
  },
  "orig_nbformat": 4
 },
 "nbformat": 4,
 "nbformat_minor": 2
}
