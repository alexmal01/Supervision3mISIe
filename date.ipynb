{
 "cells": [
  {
   "cell_type": "code",
   "execution_count": 33,
   "metadata": {},
   "outputs": [
    {
     "name": "stdout",
     "output_type": "stream",
     "text": [
      "31.12.2022\n"
     ]
    }
   ],
   "source": [
    "import fitz \n",
    "from datetime import datetime\n",
    "import re\n",
    "\n",
    "def extract_and_convert_dates(pdf_path):\n",
    "    pdf_document = fitz.open(pdf_path)\n",
    "\n",
    "    for page_number in range(pdf_document.page_count):\n",
    "        page = pdf_document[page_number]\n",
    "        text = page.get_text()\n",
    "\n",
    "        polish_date_pattern = re.compile(r'\\b(?:\\d{1,2}\\s(?:stycznia|lutego|marca|kwietnia|maja|czerwca|lipca|sierpnia|września|października|listopada|grudnia)\\s\\d{4})\\b', re.IGNORECASE)\n",
    "        dates_found = polish_date_pattern.findall(text)\n",
    "\n",
    "        if dates_found:\n",
    "            date_str = dates_found[0]\n",
    "            lookup_table = {\n",
    "                ' stycznia ': '.01.',\n",
    "                ' lutego ': '.02.',\n",
    "                ' marca ': '.03.',\n",
    "                ' kwietnia ': '.04.',\n",
    "                ' maja ': '.05.',\n",
    "                ' czerwca ': '.06.',\n",
    "                ' lipca ': '.07.',\n",
    "                ' sierpnia ': '.08.',\n",
    "                ' września ': '.09.',\n",
    "                ' października ': '.10.',\n",
    "                ' listopada ': '.11.',\n",
    "                ' grudnia ': '.12.'\n",
    "            }\n",
    "            for k, v in lookup_table.items():\n",
    "                date_str = date_str.replace(k,v)\n",
    "            pdf_document.close()\n",
    "            return date_str\n",
    "\n",
    "    pdf_document.close()\n",
    "    return '01.01.1970'\n",
    "\n",
    "pdf_path = 'SFCR_TUiR_WARTA_2022.pdf'\n",
    "pdf_path = 'SFCR-PKO-Życie-2022.pdf'\n",
    "\n",
    "extracted_dates = extract_and_convert_dates(pdf_path)\n",
    "\n",
    "print(extracted_dates)\n"
   ]
  },
  {
   "cell_type": "code",
   "execution_count": 32,
   "metadata": {},
   "outputs": [
    {
     "data": {
      "text/plain": [
       "'2022'"
      ]
     },
     "execution_count": 32,
     "metadata": {},
     "output_type": "execute_result"
    }
   ],
   "source": [
    "import fitz  \n",
    "import re\n",
    "\n",
    "def find_first_year_in_document(pdf_path):\n",
    "    pdf_document = fitz.open(pdf_path)\n",
    "\n",
    "    for page_number in range(pdf_document.page_count):\n",
    "        page = pdf_document[page_number]\n",
    "        text = page.get_text()\n",
    "\n",
    "        year_pattern = re.compile(r'\\b(?:20\\d{2})\\b')\n",
    "        year_found = year_pattern.search(text)\n",
    "\n",
    "        if year_found:\n",
    "            found_year = str(int(year_found.group()))\n",
    "            pdf_document.close()\n",
    "            return found_year\n",
    "\n",
    "    pdf_document.close()\n",
    "    return '0000'\n",
    "\n",
    "pdf_path = 'SFCR_TUiR_WARTA_2022.pdf'\n",
    "pdf_path = 'SFCR-PKO-Życie-2022.pdf'\n",
    "\n",
    "found_year = find_first_year_in_document(pdf_path)\n",
    "found_year"
   ]
  }
 ],
 "metadata": {
  "kernelspec": {
   "display_name": "base",
   "language": "python",
   "name": "python3"
  },
  "language_info": {
   "codemirror_mode": {
    "name": "ipython",
    "version": 3
   },
   "file_extension": ".py",
   "mimetype": "text/x-python",
   "name": "python",
   "nbconvert_exporter": "python",
   "pygments_lexer": "ipython3",
   "version": "3.10.9"
  }
 },
 "nbformat": 4,
 "nbformat_minor": 2
}
