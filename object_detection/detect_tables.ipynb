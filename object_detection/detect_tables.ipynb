{
 "cells": [
  {
   "cell_type": "code",
   "execution_count": 1,
   "metadata": {},
   "outputs": [
    {
     "name": "stdout",
     "output_type": "stream",
     "text": [
      "Collecting tabula-py\n",
      "  Downloading tabula_py-2.8.2-py3-none-any.whl (12.0 MB)\n",
      "     ---------------------------------------- 12.0/12.0 MB 2.0 MB/s eta 0:00:00\n",
      "Collecting distro\n",
      "  Downloading distro-1.8.0-py3-none-any.whl (20 kB)\n",
      "Requirement already satisfied: numpy in c:\\users\\szymo\\appdata\\local\\programs\\python\\python310\\lib\\site-packages (from tabula-py) (1.25.2)\n",
      "Collecting jpype1\n",
      "  Downloading JPype1-1.4.1-cp310-cp310-win_amd64.whl (345 kB)\n",
      "     -------------------------------------- 345.1/345.1 kB 1.1 MB/s eta 0:00:00\n",
      "Requirement already satisfied: pandas>=0.25.3 in c:\\users\\szymo\\appdata\\local\\programs\\python\\python310\\lib\\site-packages (from tabula-py) (1.5.3)\n",
      "Requirement already satisfied: python-dateutil>=2.8.1 in c:\\users\\szymo\\appdata\\local\\programs\\python\\python310\\lib\\site-packages (from pandas>=0.25.3->tabula-py) (2.8.2)\n",
      "Requirement already satisfied: pytz>=2020.1 in c:\\users\\szymo\\appdata\\local\\programs\\python\\python310\\lib\\site-packages (from pandas>=0.25.3->tabula-py) (2023.3)\n",
      "Requirement already satisfied: packaging in c:\\users\\szymo\\appdata\\roaming\\python\\python310\\site-packages (from jpype1->tabula-py) (23.2)\n",
      "Requirement already satisfied: six>=1.5 in c:\\users\\szymo\\appdata\\local\\programs\\python\\python310\\lib\\site-packages (from python-dateutil>=2.8.1->pandas>=0.25.3->tabula-py) (1.16.0)\n",
      "Installing collected packages: jpype1, distro, tabula-py\n",
      "Successfully installed distro-1.8.0 jpype1-1.4.1 tabula-py-2.8.2\n",
      "Note: you may need to restart the kernel to use updated packages.\n"
     ]
    },
    {
     "name": "stderr",
     "output_type": "stream",
     "text": [
      "\n",
      "[notice] A new release of pip available: 22.2.1 -> 23.3.1\n",
      "[notice] To update, run: python.exe -m pip install --upgrade pip\n"
     ]
    }
   ],
   "source": [
    "pip install tabula-py"
   ]
  },
  {
   "cell_type": "code",
   "execution_count": 7,
   "metadata": {},
   "outputs": [
    {
     "ename": "FileNotFoundError",
     "evalue": "[Errno 2] No such file or directory: 'C:\\\\Program Files\\\\Java\\\\jre1.8.0_281\\\\bin\\\\client\\\\jvm.dll'",
     "output_type": "error",
     "traceback": [
      "\u001b[1;31m---------------------------------------------------------------------------\u001b[0m",
      "\u001b[1;31mFileNotFoundError\u001b[0m                         Traceback (most recent call last)",
      "\u001b[1;32mc:\\Users\\szymo\\Supervision3mISIe\\Supervision3mISIe\\object_detection\\detect_tables.ipynb Cell 2\u001b[0m line \u001b[0;36m6\n\u001b[0;32m      <a href='vscode-notebook-cell:/c%3A/Users/szymo/Supervision3mISIe/Supervision3mISIe/object_detection/detect_tables.ipynb#W1sZmlsZQ%3D%3D?line=3'>4</a>\u001b[0m pdf_path \u001b[39m=\u001b[39m \u001b[39m\"\u001b[39m\u001b[39mC:/Users/szymo/Supervision3mISIe/Supervision3mISIe/object_detection/SFCR_TUiR_WARTA_2022.pdf\u001b[39m\u001b[39m\"\u001b[39m\n\u001b[0;32m      <a href='vscode-notebook-cell:/c%3A/Users/szymo/Supervision3mISIe/Supervision3mISIe/object_detection/detect_tables.ipynb#W1sZmlsZQ%3D%3D?line=4'>5</a>\u001b[0m \u001b[39m# Use tabula to extract tables from the PDF\u001b[39;00m\n\u001b[1;32m----> <a href='vscode-notebook-cell:/c%3A/Users/szymo/Supervision3mISIe/Supervision3mISIe/object_detection/detect_tables.ipynb#W1sZmlsZQ%3D%3D?line=5'>6</a>\u001b[0m tables \u001b[39m=\u001b[39m tabula\u001b[39m.\u001b[39;49mread_pdf(pdf_path, pages\u001b[39m=\u001b[39;49m\u001b[39m'\u001b[39;49m\u001b[39mall\u001b[39;49m\u001b[39m'\u001b[39;49m, multiple_tables\u001b[39m=\u001b[39;49m\u001b[39mTrue\u001b[39;49;00m)\n\u001b[0;32m      <a href='vscode-notebook-cell:/c%3A/Users/szymo/Supervision3mISIe/Supervision3mISIe/object_detection/detect_tables.ipynb#W1sZmlsZQ%3D%3D?line=7'>8</a>\u001b[0m \u001b[39m# Save each table as a Pandas DataFrame\u001b[39;00m\n\u001b[0;32m      <a href='vscode-notebook-cell:/c%3A/Users/szymo/Supervision3mISIe/Supervision3mISIe/object_detection/detect_tables.ipynb#W1sZmlsZQ%3D%3D?line=8'>9</a>\u001b[0m \u001b[39mfor\u001b[39;00m i, table \u001b[39min\u001b[39;00m \u001b[39menumerate\u001b[39m(tables):\n",
      "File \u001b[1;32mc:\\Users\\szymo\\AppData\\Local\\Programs\\Python\\Python310\\lib\\site-packages\\tabula\\io.py:407\u001b[0m, in \u001b[0;36mread_pdf\u001b[1;34m(input_path, output_format, encoding, java_options, pandas_options, multiple_tables, user_agent, use_raw_url, pages, guess, area, relative_area, lattice, stream, password, silent, columns, relative_columns, format, batch, output_path, force_subprocess, options)\u001b[0m\n\u001b[0;32m    404\u001b[0m     \u001b[39mraise\u001b[39;00m \u001b[39mValueError\u001b[39;00m(\u001b[39mf\u001b[39m\u001b[39m\"\u001b[39m\u001b[39m{\u001b[39;00mpath\u001b[39m}\u001b[39;00m\u001b[39m is empty. Check the file, or download it manually.\u001b[39m\u001b[39m\"\u001b[39m)\n\u001b[0;32m    406\u001b[0m \u001b[39mtry\u001b[39;00m:\n\u001b[1;32m--> 407\u001b[0m     output \u001b[39m=\u001b[39m _run(\n\u001b[0;32m    408\u001b[0m         java_options,\n\u001b[0;32m    409\u001b[0m         tabula_options,\n\u001b[0;32m    410\u001b[0m         path,\n\u001b[0;32m    411\u001b[0m         encoding\u001b[39m=\u001b[39;49mencoding,\n\u001b[0;32m    412\u001b[0m         force_subprocess\u001b[39m=\u001b[39;49mforce_subprocess,\n\u001b[0;32m    413\u001b[0m     )\n\u001b[0;32m    414\u001b[0m \u001b[39mfinally\u001b[39;00m:\n\u001b[0;32m    415\u001b[0m     \u001b[39mif\u001b[39;00m temporary:\n",
      "File \u001b[1;32mc:\\Users\\szymo\\AppData\\Local\\Programs\\Python\\Python310\\lib\\site-packages\\tabula\\io.py:72\u001b[0m, in \u001b[0;36m_run\u001b[1;34m(java_options, options, path, encoding, force_subprocess)\u001b[0m\n\u001b[0;32m     67\u001b[0m     _tabula_vm \u001b[39m=\u001b[39m SubprocessTabula(\n\u001b[0;32m     68\u001b[0m         java_options\u001b[39m=\u001b[39mjava_options, silent\u001b[39m=\u001b[39moptions\u001b[39m.\u001b[39msilent, encoding\u001b[39m=\u001b[39mencoding\n\u001b[0;32m     69\u001b[0m     )\n\u001b[0;32m     71\u001b[0m \u001b[39mif\u001b[39;00m \u001b[39mnot\u001b[39;00m _tabula_vm:\n\u001b[1;32m---> 72\u001b[0m     _tabula_vm \u001b[39m=\u001b[39m TabulaVm(java_options\u001b[39m=\u001b[39;49mjava_options, silent\u001b[39m=\u001b[39;49moptions\u001b[39m.\u001b[39;49msilent)\n\u001b[0;32m     73\u001b[0m     \u001b[39mif\u001b[39;00m _tabula_vm \u001b[39mand\u001b[39;00m \u001b[39mnot\u001b[39;00m _tabula_vm\u001b[39m.\u001b[39mtabula:\n\u001b[0;32m     74\u001b[0m         _tabula_vm \u001b[39m=\u001b[39m SubprocessTabula(\n\u001b[0;32m     75\u001b[0m             java_options\u001b[39m=\u001b[39mjava_options, silent\u001b[39m=\u001b[39moptions\u001b[39m.\u001b[39msilent, encoding\u001b[39m=\u001b[39mencoding\n\u001b[0;32m     76\u001b[0m         )\n",
      "File \u001b[1;32mc:\\Users\\szymo\\AppData\\Local\\Programs\\Python\\Python310\\lib\\site-packages\\tabula\\backend.py:44\u001b[0m, in \u001b[0;36mTabulaVm.__init__\u001b[1;34m(self, java_options, silent)\u001b[0m\n\u001b[0;32m     35\u001b[0m     \u001b[39mif\u001b[39;00m silent:\n\u001b[0;32m     36\u001b[0m         java_options\u001b[39m.\u001b[39mextend(\n\u001b[0;32m     37\u001b[0m             (\n\u001b[0;32m     38\u001b[0m                 \u001b[39m\"\u001b[39m\u001b[39m-Dorg.slf4j.simpleLogger.defaultLogLevel=off\u001b[39m\u001b[39m\"\u001b[39m,\n\u001b[1;32m   (...)\u001b[0m\n\u001b[0;32m     41\u001b[0m             )\n\u001b[0;32m     42\u001b[0m         )\n\u001b[1;32m---> 44\u001b[0m     jpype\u001b[39m.\u001b[39;49mstartJVM(\u001b[39m*\u001b[39;49mjava_options, convertStrings\u001b[39m=\u001b[39;49m\u001b[39mFalse\u001b[39;49;00m)\n\u001b[0;32m     46\u001b[0m \u001b[39mtry\u001b[39;00m:\n\u001b[0;32m     47\u001b[0m     \u001b[39mimport\u001b[39;00m \u001b[39mjava\u001b[39;00m\u001b[39m.\u001b[39;00m\u001b[39mlang\u001b[39;00m \u001b[39mas\u001b[39;00m \u001b[39mlang\u001b[39;00m\n",
      "File \u001b[1;32mc:\\Users\\szymo\\AppData\\Local\\Programs\\Python\\Python310\\lib\\site-packages\\jpype\\_core.py:184\u001b[0m, in \u001b[0;36mstartJVM\u001b[1;34m(*args, **kwargs)\u001b[0m\n\u001b[0;32m    182\u001b[0m     jvmpath \u001b[39m=\u001b[39m kwargs\u001b[39m.\u001b[39mpop(\u001b[39m'\u001b[39m\u001b[39mjvmpath\u001b[39m\u001b[39m'\u001b[39m)\n\u001b[0;32m    183\u001b[0m \u001b[39mif\u001b[39;00m \u001b[39mnot\u001b[39;00m jvmpath:\n\u001b[1;32m--> 184\u001b[0m     jvmpath \u001b[39m=\u001b[39m getDefaultJVMPath()\n\u001b[0;32m    186\u001b[0m \u001b[39m# Classpath handling\u001b[39;00m\n\u001b[0;32m    187\u001b[0m \u001b[39mif\u001b[39;00m _hasClassPath(args):\n\u001b[0;32m    188\u001b[0m     \u001b[39m# Old style, specified in the arguments\u001b[39;00m\n",
      "File \u001b[1;32mc:\\Users\\szymo\\AppData\\Local\\Programs\\Python\\Python310\\lib\\site-packages\\jpype\\_jvmfinder.py:74\u001b[0m, in \u001b[0;36mgetDefaultJVMPath\u001b[1;34m()\u001b[0m\n\u001b[0;32m     72\u001b[0m \u001b[39melse\u001b[39;00m:\n\u001b[0;32m     73\u001b[0m     finder \u001b[39m=\u001b[39m LinuxJVMFinder()\n\u001b[1;32m---> 74\u001b[0m \u001b[39mreturn\u001b[39;00m finder\u001b[39m.\u001b[39;49mget_jvm_path()\n",
      "File \u001b[1;32mc:\\Users\\szymo\\AppData\\Local\\Programs\\Python\\Python310\\lib\\site-packages\\jpype\\_jvmfinder.py:196\u001b[0m, in \u001b[0;36mJVMFinder.get_jvm_path\u001b[1;34m(self)\u001b[0m\n\u001b[0;32m    194\u001b[0m     \u001b[39m# If found check the architecture\u001b[39;00m\n\u001b[0;32m    195\u001b[0m     \u001b[39mif\u001b[39;00m jvm:\n\u001b[1;32m--> 196\u001b[0m         \u001b[39mself\u001b[39;49m\u001b[39m.\u001b[39;49mcheck(jvm)\n\u001b[0;32m    197\u001b[0m \u001b[39mexcept\u001b[39;00m \u001b[39mNotImplementedError\u001b[39;00m:\n\u001b[0;32m    198\u001b[0m     \u001b[39m# Ignore missing implementations\u001b[39;00m\n\u001b[0;32m    199\u001b[0m     \u001b[39mpass\u001b[39;00m\n",
      "File \u001b[1;32mc:\\Users\\szymo\\AppData\\Local\\Programs\\Python\\Python310\\lib\\site-packages\\jpype\\_jvmfinder.py:385\u001b[0m, in \u001b[0;36mWindowsJVMFinder.check\u001b[1;34m(self, jvm)\u001b[0m\n\u001b[0;32m    384\u001b[0m \u001b[39mdef\u001b[39;00m \u001b[39mcheck\u001b[39m(\u001b[39mself\u001b[39m, jvm):\n\u001b[1;32m--> 385\u001b[0m     _checkJVMArch(jvm)\n",
      "File \u001b[1;32mc:\\Users\\szymo\\AppData\\Local\\Programs\\Python\\Python310\\lib\\site-packages\\jpype\\_jvmfinder.py:338\u001b[0m, in \u001b[0;36m_checkJVMArch\u001b[1;34m(jvmPath, maxsize)\u001b[0m\n\u001b[0;32m    335\u001b[0m IMAGE_FILE_MACHINE_AMD64 \u001b[39m=\u001b[39m \u001b[39m34404\u001b[39m\n\u001b[0;32m    337\u001b[0m is64 \u001b[39m=\u001b[39m maxsize \u001b[39m>\u001b[39m \u001b[39m2\u001b[39m\u001b[39m*\u001b[39m\u001b[39m*\u001b[39m\u001b[39m32\u001b[39m\n\u001b[1;32m--> 338\u001b[0m \u001b[39mwith\u001b[39;00m \u001b[39mopen\u001b[39;49m(jvmPath, \u001b[39m\"\u001b[39;49m\u001b[39mrb\u001b[39;49m\u001b[39m\"\u001b[39;49m) \u001b[39mas\u001b[39;00m f:\n\u001b[0;32m    339\u001b[0m     s \u001b[39m=\u001b[39m f\u001b[39m.\u001b[39mread(\u001b[39m2\u001b[39m)\n\u001b[0;32m    340\u001b[0m     \u001b[39mif\u001b[39;00m s \u001b[39m!=\u001b[39m \u001b[39mb\u001b[39m\u001b[39m\"\u001b[39m\u001b[39mMZ\u001b[39m\u001b[39m\"\u001b[39m:\n",
      "\u001b[1;31mFileNotFoundError\u001b[0m: [Errno 2] No such file or directory: 'C:\\\\Program Files\\\\Java\\\\jre1.8.0_281\\\\bin\\\\client\\\\jvm.dll'"
     ]
    }
   ],
   "source": [
    "import tabula\n",
    "\n",
    "# Specify the path to your PDF file\n",
    "pdf_path = \"C:/Users/szymo/Supervision3mISIe/Supervision3mISIe/object_detection/SFCR_TUiR_WARTA_2022.pdf\"\n",
    "# Use tabula to extract tables from the PDF\n",
    "tables = tabula.read_pdf(pdf_path, pages='all', multiple_tables=True)\n",
    "\n",
    "# Save each table as a Pandas DataFrame\n",
    "for i, table in enumerate(tables):\n",
    "    table_df = pd.DataFrame(table)\n",
    "    # You can save the DataFrame to a CSV file or perform further processing\n",
    "    table_df.to_csv(f\"object_detection/tables/table_{i + 1}.csv\", index=False)"
   ]
  },
  {
   "cell_type": "code",
   "execution_count": 8,
   "metadata": {},
   "outputs": [
    {
     "name": "stdout",
     "output_type": "stream",
     "text": [
      "Collecting pymupdf\n",
      "  Downloading PyMuPDF-1.23.6-cp310-none-win_amd64.whl (3.5 MB)\n",
      "     ---------------------------------------- 3.5/3.5 MB 1.3 MB/s eta 0:00:00\n",
      "Collecting PyMuPDFb==1.23.6\n",
      "  Downloading PyMuPDFb-1.23.6-py3-none-win_amd64.whl (24.5 MB)\n",
      "     --------------------------------------- 24.5/24.5 MB 84.7 kB/s eta 0:00:00\n",
      "Installing collected packages: PyMuPDFb, pymupdf\n",
      "Successfully installed PyMuPDFb-1.23.6 pymupdf-1.23.6\n",
      "Note: you may need to restart the kernel to use updated packages.\n"
     ]
    },
    {
     "name": "stderr",
     "output_type": "stream",
     "text": [
      "\n",
      "[notice] A new release of pip available: 22.2.1 -> 23.3.1\n",
      "[notice] To update, run: python.exe -m pip install --upgrade pip\n"
     ]
    }
   ],
   "source": [
    "pip install pymupdf"
   ]
  },
  {
   "cell_type": "code",
   "execution_count": 11,
   "metadata": {},
   "outputs": [
    {
     "name": "stdout",
     "output_type": "stream",
     "text": [
      "Similar sentences found:\n",
      "SKŁADKI, ODSZKODOWANIA I ŚWIADCZENIA ORAZ KOSZTY WG KRAJU (S\n"
     ]
    }
   ],
   "source": [
    "import fitz  # PyMuPDF\n",
    "from difflib import SequenceMatcher\n",
    "\n",
    "def search_similar_sentence(pdf_path, target_sentence):\n",
    "    doc = fitz.open(pdf_path)\n",
    "\n",
    "    similar_sentences = []\n",
    "\n",
    "    for page_number in range(doc.page_count):\n",
    "        page = doc[page_number]\n",
    "        text = page.get_text()\n",
    "\n",
    "        # You may need to adjust the similarity threshold based on your requirements\n",
    "        similarity_threshold = 0.8\n",
    "\n",
    "        # Check if the target sentence is similar to any sentence on the page\n",
    "        for sentence in text.split('.'):\n",
    "            similarity = similar(sentence.lower(), target_sentence.lower())\n",
    "            if similarity > similarity_threshold:\n",
    "                similar_sentences.append(sentence.strip())\n",
    "\n",
    "    doc.close()\n",
    "\n",
    "    return similar_sentences\n",
    "\n",
    "def similar(a, b):\n",
    "    return SequenceMatcher(None, a, b).ratio()\n",
    "\n",
    "# Example usage\n",
    "pdf_path = \"C:/Users/szymo/Supervision3mISIe/Supervision3mISIe/object_detection/SFCR_TUiR_WARTA_2022.pdf\"\n",
    "target_sentence = 'Składki, odszkodowania i świadczenia oraz koszty wg kraju'\n",
    "\n",
    "similar_sentences = search_similar_sentence(pdf_path, target_sentence)\n",
    "\n",
    "if similar_sentences:\n",
    "    print(\"Similar sentences found:\")\n",
    "    for sentence in similar_sentences:\n",
    "        print(sentence)\n",
    "else:\n",
    "    print(\"No similar sentences found.\")"
   ]
  },
  {
   "cell_type": "code",
   "execution_count": null,
   "metadata": {},
   "outputs": [],
   "source": []
  }
 ],
 "metadata": {
  "kernelspec": {
   "display_name": "Python 3",
   "language": "python",
   "name": "python3"
  },
  "language_info": {
   "codemirror_mode": {
    "name": "ipython",
    "version": 3
   },
   "file_extension": ".py",
   "mimetype": "text/x-python",
   "name": "python",
   "nbconvert_exporter": "python",
   "pygments_lexer": "ipython3",
   "version": "3.10.6"
  }
 },
 "nbformat": 4,
 "nbformat_minor": 2
}
